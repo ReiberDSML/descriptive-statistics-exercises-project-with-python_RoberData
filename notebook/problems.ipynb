{
    "cells": [
        {
            "cell_type": "markdown",
            "id": "ac622319",
            "metadata": {},
            "source": [
                "# Descriptive statistics problems"
            ]
        },
        {
            "cell_type": "markdown",
            "id": "5e0ab0d5",
            "metadata": {},
            "source": [
                "### Exercise 1\n",
                "\n",
                "We will use NumPy to obtain information to describe statistically.\n",
                "\n",
                "- Generate an array of 100 elements following a normal distribution.\n",
                "- Generate an array of 100 elements following a chi-square distribution with 3 degrees of freedom.\n",
                "- Calculate the main metrics and statistical measures that best describe the two vectors."
            ]
        },
        {
            "cell_type": "code",
            "execution_count": 42,
            "id": "34720ab6",
            "metadata": {},
            "outputs": [
                {
                    "name": "stdout",
                    "output_type": "stream",
                    "text": [
                        "MEAN\n",
                        "Normal mean: 0.10919425446967565\n",
                        "Chi Mean: 2.909559222371685\n",
                        "\n",
                        "MEDIAN\n",
                        "Normal median: 0.26389807171230306\n",
                        "Chi median: 1.8580965277561634\n",
                        "\n",
                        "MODE\n",
                        "Normal mode: 1.2456933401388488\n",
                        "Chi mode: 3.1525336485487987\n",
                        "\n",
                        "VARIANCE\n",
                        "Normal variance: 0.8944722777463555\n",
                        "Chi Variance: 7.37433638239555\n",
                        "\n",
                        "STANDARD DEVIATION\n",
                        "Normal stdev: 0.9457654454178137\n",
                        "Chi stdev: 2.7155729381468565\n",
                        "\n",
                        "RANGE\n",
                        "Normal range: 4.469082820519386\n",
                        "Chi range: 14.89391518806489\n",
                        "\n"
                    ]
                }
            ],
            "source": [
                "import numpy as np\n",
                "import pandas as pd\n",
                "import statistics as stats\n",
                "from scipy.stats import skew\n",
                "from scipy.stats import kurtosis\n",
                "\n",
                "normal = np.random.randn(100)\n",
                "\n",
                "chi_square = np.random.chisquare(3, 100)\n",
                "\n",
                "stats_normal = normal \n",
                "\n",
                "print (\"MEAN\")\n",
                "print (f\"Normal mean: {stats.mean(normal)}\")\n",
                "print (f\"Chi Mean: {stats.mean(chi_square)}\\n\")\n",
                "\n",
                "print (\"MEDIAN\")\n",
                "print (f\"Normal median: {stats.median(normal)}\")\n",
                "print (f\"Chi median: {stats.median(chi_square)}\\n\")\n",
                "\n",
                "print (\"MODE\")\n",
                "print (f\"Normal mode: {stats.mode(normal)}\")\n",
                "print (f\"Chi mode: {stats.mode(chi_square)}\\n\")\n",
                "\n",
                "print (\"VARIANCE\")\n",
                "print (f\"Normal variance: {stats.variance(normal)}\")\n",
                "print (f\"Chi Variance: {stats.variance(chi_square)}\\n\")\n",
                "\n",
                "print (\"STANDARD DEVIATION\")\n",
                "print (f\"Normal stdev: {stats.stdev(normal)}\")\n",
                "print (f\"Chi stdev: {stats.stdev(chi_square)}\\n\")\n",
                "\n",
                "print (\"RANGE\")\n",
                "print (f\"Normal range: {max(normal - min(normal))}\")\n",
                "print (f\"Chi range: {max(chi_square) - min(chi_square)}\\n\")\n",
                "\n"
            ]
        },
        {
            "cell_type": "code",
            "execution_count": 45,
            "id": "3c7c41f0",
            "metadata": {},
            "outputs": [
                {
                    "name": "stdout",
                    "output_type": "stream",
                    "text": [
                        "NORMAL QUANTILE\n",
                        "             0\n",
                        "0.25 -0.639894\n",
                        "0.50  0.263898\n",
                        "0.75  0.765159\n",
                        "\n",
                        "CHI QUANTILE\n",
                        "             0\n",
                        "0.25  1.096917\n",
                        "0.50  1.858097\n",
                        "0.75  4.090569\n",
                        "\n",
                        "SKEWNESS\n",
                        "Normal skew: -0.11882775775366021\n",
                        "Chi skew: 1.8151122259471222\n",
                        "\n",
                        "KURTOSIS\n",
                        "Normal kurtosis: -0.6377315877325542\n",
                        "Chi kurtosis: 3.8901350433938857\n"
                    ]
                }
            ],
            "source": [
                "normal_df = pd.DataFrame(normal)\n",
                "chi_df = pd.DataFrame(chi_square)\n",
                "print (\"NORMAL QUANTILE\")\n",
                "print (normal_df.quantile([0.25, 0.5, 0.75,]))\n",
                "print (\"\\nCHI QUANTILE\")\n",
                "print (chi_df.quantile([0.25, 0.5, 0.75]))\n",
                "\n",
                "print (\"\\nSKEWNESS\")\n",
                "print (f\"Normal skew: {skew(normal)}\")\n",
                "print (f\"Chi skew: {skew(chi_square)}\\n\")\n",
                "\n",
                "print (\"KURTOSIS\")\n",
                "print (f\"Normal kurtosis: {kurtosis(normal)}\")\n",
                "print (f\"Chi kurtosis: {kurtosis(chi_square)}\")\n",
                "\n"
            ]
        },
        {
            "cell_type": "markdown",
            "id": "46c70c3d",
            "metadata": {},
            "source": [
                "### Exercise 2\n",
                "\n",
                "Write a Python program to calculate the standard deviation of the following data:\n",
                "\n",
                "```py\n",
                "data = [4, 2, 5, 8, 6]\n",
                "```"
            ]
        },
        {
            "cell_type": "code",
            "execution_count": 68,
            "id": "d590308e",
            "metadata": {},
            "outputs": [
                {
                    "name": "stdout",
                    "output_type": "stream",
                    "text": [
                        "Data: [4, 2, 5, 8, 6]\n",
                        "Standard Deviation: 2.23606797749979\n"
                    ]
                }
            ],
            "source": [
                "data = [4, 2, 5, 8, 6]\n",
                "\n",
                "suma = sum (data)\n",
                "\n",
                "mean = suma / len (data)\n",
                "\n",
                "suma_cuadrados = 0\n",
                "\n",
                "for i in data:\n",
                "    suma_cuadrados += (suma - mean) ** 2\n",
                "\n",
                "\n",
                "var = suma / len(data)\n",
                "std = var ** 0.5\n",
                "\n",
                "print (f\"Data: {data}\")\n",
                "print (f\"Standard Deviation: {std}\")"
            ]
        }
    ],
    "metadata": {
        "kernelspec": {
            "display_name": "Python 3",
            "language": "python",
            "name": "python3"
        },
        "language_info": {
            "codemirror_mode": {
                "name": "ipython",
                "version": 3
            },
            "file_extension": ".py",
            "mimetype": "text/x-python",
            "name": "python",
            "nbconvert_exporter": "python",
            "pygments_lexer": "ipython3",
            "version": "3.11.4"
        }
    },
    "nbformat": 4,
    "nbformat_minor": 5
}
